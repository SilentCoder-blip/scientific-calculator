{
  "nbformat": 4,
  "nbformat_minor": 0,
  "metadata": {
    "colab": {
      "provenance": [],
      "authorship_tag": "ABX9TyO4moIm9e2YykNpeuKaq7PC",
      "include_colab_link": true
    },
    "kernelspec": {
      "name": "python3",
      "display_name": "Python 3"
    },
    "language_info": {
      "name": "python"
    }
  },
  "cells": [
    {
      "cell_type": "markdown",
      "metadata": {
        "id": "view-in-github",
        "colab_type": "text"
      },
      "source": [
        "<a href=\"https://colab.research.google.com/github/SilentCoder-blip/scientific-calculator/blob/main/calculateapp_py.ipynb\" target=\"_parent\"><img src=\"https://colab.research.google.com/assets/colab-badge.svg\" alt=\"Open In Colab\"/></a>"
      ]
    },
    {
      "cell_type": "code",
      "execution_count": 1,
      "metadata": {
        "colab": {
          "base_uri": "https://localhost:8080/"
        },
        "id": "HcoOYTJ2nlEE",
        "outputId": "6d5f2a96-6ee3-449e-d4b1-d4e3b962ff27"
      },
      "outputs": [
        {
          "output_type": "stream",
          "name": "stdout",
          "text": [
            "Select operation:\n",
            "1. Add\n",
            "2. Subtract\n",
            "3. Multiply\n",
            "4. Divide\n",
            "Enter choice (1/2/3/4): 3\n",
            "Enter first number: 85\n",
            "Enter second number: 94\n",
            "The result is: 7990.0\n"
          ]
        }
      ],
      "source": [
        "import streamlit as st\n",
        "\n",
        "# Title of the web app\n",
        "st.title(\"Simple Calculator\")\n",
        "\n",
        "# Add operation choices in a sidebar\n",
        "st.sidebar.title(\"Select Operation:\")\n",
        "operation = st.sidebar.selectbox(\"Choose an operation\", [\"Add\", \"Subtract\", \"Multiply\", \"Divide\"])\n",
        "\n",
        "# Inputs for numbers\n",
        "num1 = st.number_input(\"Enter first number:\", value=0.0)\n",
        "num2 = st.number_input(\"Enter second number:\", value=0.0)\n",
        "\n",
        "# Function definitions for basic operations\n",
        "def add(x, y):\n",
        "    return x + y\n",
        "\n",
        "def subtract(x, y):\n",
        "    return x - y\n",
        "\n",
        "def multiply(x, y):\n",
        "    return x * y\n",
        "\n",
        "def divide(x, y):\n",
        "    if y == 0:\n",
        "        return \"Error! Division by zero.\"\n",
        "    return x / y\n",
        "\n",
        "# Perform the selected operation\n",
        "if st.button(\"Calculate\"):\n",
        "    if operation == \"Add\":\n",
        "        result = add(num1, num2)\n",
        "    elif operation == \"Subtract\":\n",
        "        result = subtract(num1, num2)\n",
        "    elif operation == \"Multiply\":\n",
        "        result = multiply(num1, num2)\n",
        "    elif operation == \"Divide\":\n",
        "        result = divide(num1, num2)\n",
        "\n",
        "    st.write(f\"The result is: {result}\")\n",
        "\n"
      ]
    }
  ]
}